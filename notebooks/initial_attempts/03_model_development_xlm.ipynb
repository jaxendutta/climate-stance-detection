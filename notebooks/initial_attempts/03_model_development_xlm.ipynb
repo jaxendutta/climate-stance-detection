{
 "cells": [
  {
   "cell_type": "markdown",
   "metadata": {},
   "source": [
    "# Model Development\n",
    "\n",
    "In this notebook, we'll develop our cross-lingual stance detection model using XLM-RoBERTa."
   ]
  },
  {
   "cell_type": "code",
   "execution_count": 7,
   "metadata": {},
   "outputs": [],
   "source": [
    "import pandas as pd\n",
    "import numpy as np\n",
    "import torch\n",
    "from transformers import XLMRobertaTokenizer, XLMRobertaForSequenceClassification, AdamW\n",
    "from torch.utils.data import DataLoader, TensorDataset\n",
    "from sklearn.preprocessing import LabelEncoder\n",
    "from sklearn.metrics import classification_report\n",
    "from tqdm import tqdm\n",
    "import gc"
   ]
  },
  {
   "cell_type": "markdown",
   "metadata": {},
   "source": [
    "## 1. Load and Prepare Data"
   ]
  },
  {
   "cell_type": "code",
   "execution_count": 8,
   "metadata": {},
   "outputs": [
    {
     "name": "stdout",
     "output_type": "stream",
     "text": [
      "Train: 5645, Validation: 807, Test: 1613\n",
      "Stance labels: [0 1 2]\n",
      "\n",
      "Sample data from training set:\n",
      "                                      processed_text  stance  stance_encoded\n",
      "0           worst hurrican season evar accord expert       2               2\n",
      "1                demand climat action finnish govern       0               0\n",
      "2       home depot fine million sell ban superpollut       2               2\n",
      "3  mexiko illegal abholz vertreibt ureinwohn orga...       2               2\n",
      "4  web mobil dev look help hey web dev realli wan...       0               0\n",
      "\n",
      "Class distribution in training set:\n",
      "stance\n",
      "2    0.888751\n",
      "0    0.105757\n",
      "1    0.005492\n",
      "Name: proportion, dtype: float64\n"
     ]
    }
   ],
   "source": [
    "# Load the preprocessed data\n",
    "train_data = pd.read_csv('../data/processed/train.csv')\n",
    "val_data = pd.read_csv('../data/processed/val.csv')\n",
    "test_data = pd.read_csv('../data/processed/test.csv')\n",
    "\n",
    "print(f\"Train: {len(train_data)}, Validation: {len(val_data)}, Test: {len(test_data)}\")\n",
    "\n",
    "# Encode stance labels\n",
    "le = LabelEncoder()\n",
    "train_data['stance_encoded'] = le.fit_transform(train_data['stance'])\n",
    "val_data['stance_encoded'] = le.transform(val_data['stance'])\n",
    "test_data['stance_encoded'] = le.transform(test_data['stance'])\n",
    "\n",
    "print(f\"Stance labels: {le.classes_}\")\n",
    "\n",
    "# Display some sample data\n",
    "print(\"\\nSample data from training set:\")\n",
    "print(train_data[['processed_text', 'stance', 'stance_encoded']].head())\n",
    "\n",
    "# Check class distribution\n",
    "print(\"\\nClass distribution in training set:\")\n",
    "print(train_data['stance'].value_counts(normalize=True))"
   ]
  },
  {
   "cell_type": "markdown",
   "metadata": {},
   "source": [
    "## 2. Tokenize Data"
   ]
  },
  {
   "cell_type": "code",
   "execution_count": 12,
   "metadata": {},
   "outputs": [
    {
     "name": "stderr",
     "output_type": "stream",
     "text": [
      "/u1/a9dutta/miniconda3/envs/my_jupyter_env/lib/python3.12/site-packages/transformers/tokenization_utils_base.py:1601: FutureWarning: `clean_up_tokenization_spaces` was not set. It will be set to `True` by default. This behavior will be depracted in transformers v4.45, and will be then set to `False` by default. For more details check this issue: https://github.com/huggingface/transformers/issues/31884\n",
      "  warnings.warn(\n"
     ]
    },
    {
     "name": "stdout",
     "output_type": "stream",
     "text": [
      "Data tokenized and prepared for model training.\n"
     ]
    }
   ],
   "source": [
    "# Initialize the tokenizer\n",
    "tokenizer = XLMRobertaTokenizer.from_pretrained('xlm-roberta-base')\n",
    "\n",
    "def tokenize_data(texts, labels, max_length=256):\n",
    "    # Ensure texts is a list of strings\n",
    "    if isinstance(texts, pd.Series):\n",
    "        texts = texts.astype(str).tolist()\n",
    "    else:\n",
    "        texts = [str(text) for text in texts]\n",
    "    \n",
    "    encodings = tokenizer(texts, truncation=True, padding=True, max_length=max_length, return_tensors='pt')\n",
    "    return TensorDataset(encodings['input_ids'], encodings['attention_mask'], torch.tensor(labels))\n",
    "\n",
    "# Try tokenizing again\n",
    "train_dataset = tokenize_data(train_data['processed_text'], train_data['stance_encoded'])\n",
    "val_dataset = tokenize_data(val_data['processed_text'], val_data['stance_encoded'])\n",
    "test_dataset = tokenize_data(test_data['processed_text'], test_data['stance_encoded'])\n",
    "\n",
    "print(\"Data tokenized and prepared for model training.\")"
   ]
  },
  {
   "cell_type": "markdown",
   "metadata": {},
   "source": [
    "## 3. Define Model and Training Functions"
   ]
  },
  {
   "cell_type": "code",
   "execution_count": 13,
   "metadata": {},
   "outputs": [
    {
     "name": "stdout",
     "output_type": "stream",
     "text": [
      "Using device: cpu\n"
     ]
    },
    {
     "name": "stderr",
     "output_type": "stream",
     "text": [
      "Some weights of XLMRobertaForSequenceClassification were not initialized from the model checkpoint at xlm-roberta-base and are newly initialized: ['classifier.dense.bias', 'classifier.dense.weight', 'classifier.out_proj.bias', 'classifier.out_proj.weight']\n",
      "You should probably TRAIN this model on a down-stream task to be able to use it for predictions and inference.\n"
     ]
    }
   ],
   "source": [
    "device = torch.device('cuda' if torch.cuda.is_available() else 'cpu')\n",
    "print(f\"Using device: {device}\")\n",
    "\n",
    "model = XLMRobertaForSequenceClassification.from_pretrained('xlm-roberta-base', num_labels=len(le.classes_))\n",
    "model.to(device)\n",
    "\n",
    "def train(model, train_loader, val_loader, epochs=3, lr=2e-5):\n",
    "    optimizer = AdamW(model.parameters(), lr=lr)\n",
    "    \n",
    "    for epoch in range(epochs):\n",
    "        model.train()\n",
    "        train_loss = 0\n",
    "        for batch in tqdm(train_loader, desc=f\"Epoch {epoch+1}/{epochs}\"):\n",
    "            input_ids, attention_mask, labels = [b.to(device) for b in batch]\n",
    "            optimizer.zero_grad()\n",
    "            outputs = model(input_ids, attention_mask=attention_mask, labels=labels)\n",
    "            loss = outputs.loss\n",
    "            loss.backward()\n",
    "            optimizer.step()\n",
    "            train_loss += loss.item()\n",
    "        \n",
    "        # Validation\n",
    "        model.eval()\n",
    "        val_loss = 0\n",
    "        with torch.no_grad():\n",
    "            for batch in val_loader:\n",
    "                input_ids, attention_mask, labels = [b.to(device) for b in batch]\n",
    "                outputs = model(input_ids, attention_mask=attention_mask, labels=labels)\n",
    "                val_loss += outputs.loss.item()\n",
    "        \n",
    "        print(f\"Epoch {epoch+1}/{epochs}, Train Loss: {train_loss/len(train_loader):.4f}, Val Loss: {val_loss/len(val_loader):.4f}\")\n",
    "    \n",
    "    return model\n",
    "\n",
    "def evaluate(model, test_loader):\n",
    "    model.eval()\n",
    "    predictions = []\n",
    "    true_labels = []\n",
    "    \n",
    "    with torch.no_grad():\n",
    "        for batch in tqdm(test_loader, desc=\"Evaluating\"):\n",
    "            input_ids, attention_mask, labels = [b.to(device) for b in batch]\n",
    "            outputs = model(input_ids, attention_mask=attention_mask)\n",
    "            _, preds = torch.max(outputs.logits, dim=1)\n",
    "            predictions.extend(preds.cpu().tolist())\n",
    "            true_labels.extend(labels.cpu().tolist())\n",
    "    \n",
    "    return classification_report(true_labels, predictions, target_names=le.classes_, digits=4)"
   ]
  },
  {
   "cell_type": "markdown",
   "metadata": {},
   "source": [
    "## 4. Train the Model"
   ]
  },
  {
   "cell_type": "code",
   "execution_count": 14,
   "metadata": {},
   "outputs": [
    {
     "name": "stderr",
     "output_type": "stream",
     "text": [
      "/u1/a9dutta/miniconda3/envs/my_jupyter_env/lib/python3.12/site-packages/transformers/optimization.py:591: FutureWarning: This implementation of AdamW is deprecated and will be removed in a future version. Use the PyTorch implementation torch.optim.AdamW instead, or set `no_deprecation_warning=True` to disable this warning\n",
      "  warnings.warn(\n",
      "Epoch 1/3:   4%|▍         | 14/353 [01:36<34:31,  6.11s/it] "
     ]
    },
    {
     "ename": "",
     "evalue": "",
     "output_type": "error",
     "traceback": [
      "\u001b[1;31mThe Kernel crashed while executing code in the current cell or a previous cell. \n",
      "\u001b[1;31mPlease review the code in the cell(s) to identify a possible cause of the failure. \n",
      "\u001b[1;31mClick <a href='https://aka.ms/vscodeJupyterKernelCrash'>here</a> for more info. \n",
      "\u001b[1;31mView Jupyter <a href='command:jupyter.viewOutput'>log</a> for further details."
     ]
    }
   ],
   "source": [
    "train_loader = DataLoader(train_dataset, batch_size=16, shuffle=True)\n",
    "val_loader = DataLoader(val_dataset, batch_size=16)\n",
    "test_loader = DataLoader(test_dataset, batch_size=16)\n",
    "\n",
    "trained_model = train(model, train_loader, val_loader, epochs=3)\n",
    "\n",
    "# Save the trained model\n",
    "torch.save(trained_model.state_dict(), 'models/xlm_roberta_stance_detection.pth')\n",
    "print(\"Model trained and saved.\")"
   ]
  },
  {
   "cell_type": "markdown",
   "metadata": {},
   "source": [
    "## 5. Evaluate the Model"
   ]
  },
  {
   "cell_type": "code",
   "execution_count": null,
   "metadata": {},
   "outputs": [],
   "source": [
    "evaluation_report = evaluate(trained_model, test_loader)\n",
    "print(\"Model Evaluation Report:\")\n",
    "print(evaluation_report)"
   ]
  },
  {
   "cell_type": "markdown",
   "metadata": {},
   "source": [
    "## 6. Analyze Results and Next Steps\n",
    "\n",
    "Based on the evaluation results, we can analyze the model's performance:\n",
    "\n",
    "1. Overall accuracy: [Your observation]\n",
    "2. Performance across different stances: [Your observation]\n",
    "3. Performance across different languages: [Your observation]\n",
    "\n",
    "Next steps:\n",
    "1. Fine-tune hyperparameters if necessary\n",
    "2. Analyze misclassifications to understand model weaknesses\n",
    "3. Consider data augmentation or additional preprocessing steps\n",
    "4. Implement the trained model in a stance detection script\n",
    "\n",
    "With this model developed and evaluated, we can now move on to creating a script for detecting stances in new, unseen data."
   ]
  }
 ],
 "metadata": {
  "kernelspec": {
   "display_name": "Python (my_jupyter_env)",
   "language": "python",
   "name": "my_jupyter_env"
  },
  "language_info": {
   "codemirror_mode": {
    "name": "ipython",
    "version": 3
   },
   "file_extension": ".py",
   "mimetype": "text/x-python",
   "name": "python",
   "nbconvert_exporter": "python",
   "pygments_lexer": "ipython3",
   "version": "3.12.4"
  }
 },
 "nbformat": 4,
 "nbformat_minor": 4
}
